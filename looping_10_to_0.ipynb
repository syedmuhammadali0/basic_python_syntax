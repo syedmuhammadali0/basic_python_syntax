{
  "nbformat": 4,
  "nbformat_minor": 0,
  "metadata": {
    "colab": {
      "provenance": [],
      "authorship_tag": "ABX9TyONFvPQbGdFS3FEDo4R7cAV",
      "include_colab_link": true
    },
    "kernelspec": {
      "name": "python3",
      "display_name": "Python 3"
    },
    "language_info": {
      "name": "python"
    }
  },
  "cells": [
    {
      "cell_type": "markdown",
      "metadata": {
        "id": "view-in-github",
        "colab_type": "text"
      },
      "source": [
        "<a href=\"https://colab.research.google.com/github/syedmuhammadali0/basic_python_syntax/blob/main/looping_10_to_0.ipynb\" target=\"_parent\"><img src=\"https://colab.research.google.com/assets/colab-badge.svg\" alt=\"Open In Colab\"/></a>"
      ]
    },
    {
      "cell_type": "code",
      "execution_count": 2,
      "metadata": {
        "colab": {
          "base_uri": "https://localhost:8080/"
        },
        "id": "r6jntqiTQXT4",
        "outputId": "e6231908-c2a0-4fbc-b779-27698329ff54"
      },
      "outputs": [
        {
          "output_type": "stream",
          "name": "stdout",
          "text": [
            "10\n",
            "9\n",
            "8\n",
            "7\n",
            "6\n",
            "5\n",
            "4\n",
            "3\n",
            "2\n",
            "1\n",
            "free palestine\n"
          ]
        }
      ],
      "source": [
        "import time\n",
        "second = 10\n",
        "while second >0:\n",
        "   print(second)\n",
        "   time.sleep(1)\n",
        "   second -=1\n",
        "print(\"free palestine\")"
      ]
    }
  ]
}