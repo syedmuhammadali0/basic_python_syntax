{
  "nbformat": 4,
  "nbformat_minor": 0,
  "metadata": {
    "colab": {
      "provenance": [],
      "authorship_tag": "ABX9TyMQvqLwogN8vBQ94q8Mofvx",
      "include_colab_link": true
    },
    "kernelspec": {
      "name": "python3",
      "display_name": "Python 3"
    },
    "language_info": {
      "name": "python"
    }
  },
  "cells": [
    {
      "cell_type": "markdown",
      "metadata": {
        "id": "view-in-github",
        "colab_type": "text"
      },
      "source": [
        "<a href=\"https://colab.research.google.com/github/syedmuhammadali0/basic_python_syntax/blob/main/my_info_m_to_km.ipynb\" target=\"_parent\"><img src=\"https://colab.research.google.com/assets/colab-badge.svg\" alt=\"Open In Colab\"/></a>"
      ]
    },
    {
      "cell_type": "code",
      "execution_count": null,
      "metadata": {
        "id": "meun0CwFgvl7",
        "colab": {
          "base_uri": "https://localhost:8080/"
        },
        "outputId": "2b05728e-efaf-4a79-a718-a0e6903a5850"
      },
      "outputs": [
        {
          "output_type": "stream",
          "name": "stdout",
          "text": [
            "enter your name:alishba\n",
            "enter your age:21\n",
            "enter your name:ali\n",
            "alishba\n",
            "21\n",
            "ali\n",
            "['wolf of wall street', 'salaar', 'john wick']\n",
            "enter temperature in celsius:20\n",
            "20.00 degree celsius is equal to 68.00 degree farenheit\n"
          ]
        }
      ],
      "source": [
        "name = input(\"enter your name:\")\n",
        "age = int(input(\"enter your age:\"))\n",
        "email = (input(\"enter your name:\"))\n",
        "print(name)\n",
        "print(age)\n",
        "print(email)\n",
        "fav_movie = [\"wolf of wall street\",\"salaar\",\"john wick\"]\n",
        "print(fav_movie)\n",
        "celsius = int(input(\"enter temperature in celsius:\"))\n",
        "fahrenheit = int(celsius * 9/5) + 32\n",
        "print(f\"{celsius:.2f} degree celsius is equal to {fahrenheit:.2f} degree farenheit\")\n",
        "thisdict = {\n",
        "    \"brand\" : \"ford\",\n",
        "    \"model\" : \"mustang\",\n",
        "    \"year\" : 1964}"
      ]
    },
    {
      "cell_type": "markdown",
      "source": [],
      "metadata": {
        "id": "qVWsYTL3j-p0"
      }
    },
    {
      "cell_type": "code",
      "source": [
        "def km_to_m():\n",
        "\n",
        "  kilometer= int(input(\" enter your number in kilometer: \"))\n",
        "  meter = kilometer * 1000\n",
        "  print(f\"{kilometer} kilometer is equal to {meter} meters\")\n",
        "\n",
        "km_to_m()"
      ],
      "metadata": {
        "colab": {
          "base_uri": "https://localhost:8080/"
        },
        "id": "DkM3oFDfhIt7",
        "outputId": "8ec68ba9-5eb7-49ea-f46c-93243e4b4dd5"
      },
      "execution_count": 13,
      "outputs": [
        {
          "output_type": "stream",
          "name": "stdout",
          "text": [
            " enter your number in kilometer: 1\n",
            "1 kilometer is equal to 1000 meters\n"
          ]
        }
      ]
    },
    {
      "cell_type": "markdown",
      "source": [
        "m-> km"
      ],
      "metadata": {
        "id": "oek4ugt6ndHa"
      }
    },
    {
      "cell_type": "code",
      "source": [
        "def m_to_km():\n",
        "\n",
        "  meter = int(input(\"enter your numer in meter:\"))\n",
        "  kilometer = meter / 1000\n",
        "  print(f\"{meter} meters is equal to {kilometer} kilometer\")\n",
        "\n",
        "m_to_km()"
      ],
      "metadata": {
        "colab": {
          "base_uri": "https://localhost:8080/"
        },
        "id": "g2G-VlPBmywD",
        "outputId": "c2346f89-8016-4ec4-9065-bc7275a14a91"
      },
      "execution_count": 18,
      "outputs": [
        {
          "output_type": "stream",
          "name": "stdout",
          "text": [
            "enter your numer in meter:20\n",
            "20 meters is equal to 0.02 kilometer\n"
          ]
        }
      ]
    },
    {
      "cell_type": "markdown",
      "source": [
        "m -> cm"
      ],
      "metadata": {
        "id": "X4XGyFedngLq"
      }
    },
    {
      "cell_type": "code",
      "source": [
        "def m_to_cm():\n",
        "\n",
        "  meter = int(input(\"enter your number in meter:\"))\n",
        "  centimeter = meter * 100\n",
        "  print(f\"{meter} meter is equal to {centimeter} centimeter\")\n",
        "\n",
        "m_to_cm()"
      ],
      "metadata": {
        "colab": {
          "base_uri": "https://localhost:8080/"
        },
        "id": "LmxRt36JnjdR",
        "outputId": "31ea73c9-1efa-43b8-f352-8967e471766d"
      },
      "execution_count": 19,
      "outputs": [
        {
          "output_type": "stream",
          "name": "stdout",
          "text": [
            "enter your number in meter:25\n",
            "25 meter is equal to 2500 centimeter\n"
          ]
        }
      ]
    },
    {
      "cell_type": "markdown",
      "source": [
        "km - > cm"
      ],
      "metadata": {
        "id": "5cQNkLImnkEp"
      }
    },
    {
      "cell_type": "code",
      "source": [
        "def km_to_cm():\n",
        "\n",
        "  kilometer = int(input(\"enter your number in kilometer:\"))\n",
        "  centimeter = kilometer * 100000\n",
        "  print(f\"{kilometer} kilometer is equal to {centimeter} centimeter\")\n",
        "\n",
        "km_to_cm()"
      ],
      "metadata": {
        "colab": {
          "base_uri": "https://localhost:8080/"
        },
        "id": "FD0_FB-8nouK",
        "outputId": "62a8720b-e506-4e46-923a-7d756b59202c"
      },
      "execution_count": 22,
      "outputs": [
        {
          "output_type": "stream",
          "name": "stdout",
          "text": [
            "enter your number in kilometer:30\n",
            "30 kilometer is equal to 3000000 centimeter\n"
          ]
        }
      ]
    },
    {
      "cell_type": "code",
      "source": [
        "print(\"1 = km -> m , 2 = m -> km , 3 = cm -> km\")\n",
        "select_option = (input(\"enter your option\"))\n",
        "\n",
        "number = int(input(\"enter your number\"))\n",
        "km_m = (number * 1000)\n",
        "m_km = (number / 1000)\n",
        "cm_km = (number / 100000)\n",
        "if select_option == \"1\":\n",
        "  print(f\"{number} km is equal to {km_m} m\")\n",
        "elif select_option == \"2\":\n",
        "  print (f\"{number} m = {m_km} km\")\n",
        "elif select_option == \"3\":\n",
        "  print(f\"{number} cm = {cm_km} km\")\n",
        "else:\n",
        "  print(\"invalid option\")\n"
      ],
      "metadata": {
        "colab": {
          "base_uri": "https://localhost:8080/"
        },
        "id": "SmQhnUkvrzyS",
        "outputId": "06786dd0-4e3f-4af3-f3be-505dbd91a3c5"
      },
      "execution_count": 24,
      "outputs": [
        {
          "output_type": "stream",
          "name": "stdout",
          "text": [
            "1 = km -> m , 2 = m -> km , 3 = cm -> km\n",
            "enter your option4\n",
            "enter your number56\n",
            "invalid option\n"
          ]
        }
      ]
    }
  ]
}