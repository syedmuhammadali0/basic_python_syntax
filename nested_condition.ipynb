{
  "nbformat": 4,
  "nbformat_minor": 0,
  "metadata": {
    "colab": {
      "provenance": [],
      "authorship_tag": "ABX9TyMTlYGqCBli8VegKZ1zkGIL",
      "include_colab_link": true
    },
    "kernelspec": {
      "name": "python3",
      "display_name": "Python 3"
    },
    "language_info": {
      "name": "python"
    }
  },
  "cells": [
    {
      "cell_type": "markdown",
      "metadata": {
        "id": "view-in-github",
        "colab_type": "text"
      },
      "source": [
        "<a href=\"https://colab.research.google.com/github/syedmuhammadali0/basic_python_syntax/blob/main/nested_condition.ipynb\" target=\"_parent\"><img src=\"https://colab.research.google.com/assets/colab-badge.svg\" alt=\"Open In Colab\"/></a>"
      ]
    },
    {
      "cell_type": "code",
      "execution_count": 5,
      "metadata": {
        "colab": {
          "base_uri": "https://localhost:8080/"
        },
        "id": "Tnvo99ziVc7J",
        "outputId": "fcbf068e-6da3-4ba3-a1b8-568cc7cc567c"
      },
      "outputs": [
        {
          "output_type": "stream",
          "name": "stdout",
          "text": [
            "Access granted\n"
          ]
        }
      ],
      "source": [
        "username = \"admin\"\n",
        "\n",
        "password = \"1234\"\n",
        "\n",
        "if username == \"admin\":\n",
        "\n",
        "   if password == \"1234\":\n",
        "\n",
        "    print(\"Access granted\")\n",
        "\n",
        "   else:\n",
        "\n",
        "    print(\"Incorrect password\")\n",
        "\n",
        "else:\n",
        "\n",
        " print(\"User not found\")"
      ]
    }
  ]
}