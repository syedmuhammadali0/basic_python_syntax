{
  "nbformat": 4,
  "nbformat_minor": 0,
  "metadata": {
    "colab": {
      "provenance": [],
      "authorship_tag": "ABX9TyOc0fe3aUterc4NwJxmFeDJ",
      "include_colab_link": true
    },
    "kernelspec": {
      "name": "python3",
      "display_name": "Python 3"
    },
    "language_info": {
      "name": "python"
    }
  },
  "cells": [
    {
      "cell_type": "markdown",
      "metadata": {
        "id": "view-in-github",
        "colab_type": "text"
      },
      "source": [
        "<a href=\"https://colab.research.google.com/github/syedmuhammadali0/basic_python_syntax/blob/main/countdown_timer.ipynb\" target=\"_parent\"><img src=\"https://colab.research.google.com/assets/colab-badge.svg\" alt=\"Open In Colab\"/></a>"
      ]
    },
    {
      "cell_type": "code",
      "execution_count": 6,
      "metadata": {
        "colab": {
          "base_uri": "https://localhost:8080/"
        },
        "id": "Tnvo99ziVc7J",
        "outputId": "5c88f702-1c5c-45d9-a032-70b5978422c1"
      },
      "outputs": [
        {
          "output_type": "stream",
          "name": "stdout",
          "text": [
            "10\n",
            "9\n",
            "8\n",
            "7\n",
            "6\n",
            "5\n",
            "4\n",
            "3\n",
            "2\n",
            "1\n",
            "⏰ Time's up!\n"
          ]
        }
      ],
      "source": [
        "import time\n",
        "\n",
        "seconds = 10\n",
        "\n",
        "while seconds > 0:\n",
        "\n",
        "   print(seconds)\n",
        "\n",
        "   time.sleep(1)\n",
        "\n",
        "   seconds -= 1\n",
        "\n",
        "print(\"⏰ Time's up!\")"
      ]
    }
  ]
}