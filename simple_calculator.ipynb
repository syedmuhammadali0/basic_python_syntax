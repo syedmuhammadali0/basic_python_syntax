{
  "nbformat": 4,
  "nbformat_minor": 0,
  "metadata": {
    "colab": {
      "provenance": [],
      "authorship_tag": "ABX9TyPwx1BueKlgVZAj2P+7/j6p",
      "include_colab_link": true
    },
    "kernelspec": {
      "name": "python3",
      "display_name": "Python 3"
    },
    "language_info": {
      "name": "python"
    }
  },
  "cells": [
    {
      "cell_type": "markdown",
      "metadata": {
        "id": "view-in-github",
        "colab_type": "text"
      },
      "source": [
        "<a href=\"https://colab.research.google.com/github/syedmuhammadali0/basic_python_syntax/blob/main/simple_calculator.ipynb\" target=\"_parent\"><img src=\"https://colab.research.google.com/assets/colab-badge.svg\" alt=\"Open In Colab\"/></a>"
      ]
    },
    {
      "cell_type": "code",
      "source": [
        "# Program make a simple calculator that can add, subtract, multiply and divide using functions\n",
        "\n",
        "# define functions\n",
        "def add(x, y):\n",
        "   \"\"\"This function adds two numbers\"\"\"\n",
        "\n",
        "   return x + y\n",
        "\n",
        "def subtract(x, y):\n",
        "   \"\"\"This function subtracts two numbers\"\"\"\n",
        "\n",
        "   return x - y\n",
        "\n",
        "def multiply(x, y):\n",
        "   \"\"\"This function multiplies two numbers\"\"\"\n",
        "\n",
        "   return x * y\n",
        "\n",
        "def divide(x, y):\n",
        "   \"\"\"This function divides two numbers\"\"\"\n",
        "\n",
        "   return x / y\n",
        "\n",
        "# take input from the user\n",
        "print(\"Select operation.\")\n",
        "print(\"1.Add\")\n",
        "print(\"2.Subtract\")\n",
        "print(\"3.Multiply\")\n",
        "print(\"4.Divide\")\n",
        "\n",
        "choice = input(\"Enter choice(1/2/3/4):\")\n",
        "\n",
        "num1 = int(input(\"Enter first number: \"))\n",
        "num2 = int(input(\"Enter second number: \"))\n",
        "\n",
        "if choice == '1':\n",
        "   print(num1,\"+\",num2,\"=\", add(num1,num2))\n",
        "\n",
        "elif choice == '2':\n",
        "   print(num1,\"-\",num2,\"=\", subtract(num1,num2))\n",
        "\n",
        "elif choice == '3':\n",
        "   print(num1,\"*\",num2,\"=\", multiply(num1,num2))\n",
        "\n",
        "elif choice == '4':\n",
        "   print(num1,\"/\",num2,\"=\", divide(num1,num2))\n",
        "else:\n",
        "   print(\"Invalid input\")"
      ],
      "metadata": {
        "colab": {
          "base_uri": "https://localhost:8080/"
        },
        "id": "kF5XXi7FrbI5",
        "outputId": "e6f0c2f2-a503-4681-d87e-3b295c3770e2"
      },
      "execution_count": 30,
      "outputs": [
        {
          "output_type": "stream",
          "name": "stdout",
          "text": [
            "Select operation.\n",
            "1.Add\n",
            "2.Subtract\n",
            "3.Multiply\n",
            "4.Divide\n",
            "Enter choice(1/2/3/4):1\n",
            "Enter first number: 2\n",
            "Enter second number: 3\n",
            "2 + 3 = 5\n"
          ]
        }
      ]
    },
    {
      "cell_type": "code",
      "source": [
        "# Basic Arthematic Operations\n",
        "Interger_1 = int (input (\"Enter Your First Number:  \"))     # taking first number as input\n",
        "Interger_2 = int (input (\"Enter Your second Number:  \"))    # taking 2nd number as input\n",
        "print(\"Sum Of 2 Number is:  \" , Interger_1 + Interger_2)\n",
        "\n",
        "Interger_1 = int (input (\"Enter Your First Number:  \"))     # taking first number as input\n",
        "Interger_2 = int (input (\"Enter Your second Number:  \"))    # taking 2nd number as input\n",
        "print(\"Subtraction Of 2 Number is:  \" , Interger_1 - Interger_2)\n",
        "\n",
        "Interger_1 = int (input (\"Enter Your First Number:  \"))     # taking first number as input\n",
        "Interger_2 = int (input (\"Enter Your second Number:  \"))    # taking 2nd number as input\n",
        "print(\"Multiplication Of 2 Number is:  \" , Interger_1 * Interger_2)\n",
        "\n",
        "Interger_1 = int (input (\"Enter Your First Number:  \"))     # taking first number as input\n",
        "Interger_2 = int (input (\"Enter Your second Number:  \"))    # taking 2nd number as input\n",
        "print(\"Divivson Of 2 Number is:  \" , Interger_1/Interger_2)\n",
        "\n",
        "n = float(input(\"number\"))\n",
        "print(\"log:\" , math.log10(n))\n",
        "\n",
        "for i in range(1,10):\n",
        "  print(i)"
      ],
      "metadata": {
        "colab": {
          "base_uri": "https://localhost:8080/"
        },
        "id": "MePVjTjz9CbS",
        "outputId": "8eda1f1e-3697-400b-81fd-9c739fc11c39"
      },
      "execution_count": 32,
      "outputs": [
        {
          "output_type": "stream",
          "name": "stdout",
          "text": [
            "Enter Your First Number:  5\n",
            "Enter Your second Number:  5\n",
            "Sum Of 2 Number is:   10\n",
            "Enter Your First Number:  4\n",
            "Enter Your second Number:  4\n",
            "Subtraction Of 2 Number is:   0\n",
            "Enter Your First Number:  3\n",
            "Enter Your second Number:  3\n",
            "Multiplication Of 2 Number is:   9\n",
            "Enter Your First Number:  1\n",
            "Enter Your second Number:  1\n",
            "Divivson Of 2 Number is:   1.0\n",
            "number24\n",
            "log: 1.380211241711606\n",
            "1\n",
            "2\n",
            "3\n",
            "4\n",
            "5\n",
            "6\n",
            "7\n",
            "8\n",
            "9\n"
          ]
        }
      ]
    },
    {
      "cell_type": "code",
      "source": [
        "import time\n",
        "\n",
        "print(\"durrani:sangay sha jii\")\n",
        "time.sleep(3.5)\n",
        "print(\"ali:shay yam ghat pishay(nose)\")\n",
        "time.sleep(3.5)\n",
        "print(\"durrani:masti maka wa kallu.\")\n",
        "time.sleep(2.5)\n",
        "print(\"ali:acha ek kaam karo\")\n",
        "time.sleep(2.5)\n",
        "print(\"durrani:kia?\")\n",
        "time.sleep(1.5)\n",
        "print(\"ali:apni naak ki bati batao or....\")\n",
        "time.sleep(3.5)\n",
        "print(\"durrani:eeee \")"
      ],
      "metadata": {
        "colab": {
          "base_uri": "https://localhost:8080/"
        },
        "id": "7hgv3ZLTDE9k",
        "outputId": "5904f93d-bf21-424d-c03e-7ac38d67d0cb"
      },
      "execution_count": 36,
      "outputs": [
        {
          "output_type": "stream",
          "name": "stdout",
          "text": [
            "durrani:sangay sha jii\n",
            "ali:shay yam ghat pishay(nose)\n",
            "durrani:masti maka wa kallu.\n",
            "ali:acha ek kaam karo\n",
            "durrani:kia?\n",
            "ali:apni naak ki bati batao or....\n",
            "durrani:eeee har***\n"
          ]
        }
      ]
    },
    {
      "cell_type": "code",
      "source": [],
      "metadata": {
        "id": "ruhNMz54HyUl"
      },
      "execution_count": null,
      "outputs": []
    }
  ]
}